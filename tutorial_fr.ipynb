{
 "cells": [
  {
   "cell_type": "code",
   "execution_count": 1,
   "metadata": {},
   "outputs": [],
   "source": [
    "########################################################################\n",
    "# tutorial_fr.ipynb is designed to help you to use celestialbody\n",
    "# Copyright (C) 2021 Rémi Metzdorff (remi.metzdorff@orange.fr)\n",
    "#\n",
    "# This program is free software: you can redistribute it and/or modify\n",
    "# it under the terms of the GNU General Public License as published by\n",
    "# the Free Software Foundation, either version 3 of the License, or\n",
    "# (at your option) any later version.\n",
    "#\n",
    "# This program is distributed in the hope that it will be useful,\n",
    "# but WITHOUT ANY WARRANTY; without even the implied warranty of\n",
    "# MERCHANTABILITY or FITNESS FOR A PARTICULAR PURPOSE.  See the\n",
    "# GNU General Public License for more details.\n",
    "#\n",
    "# You should have received a copy of the GNU General Public License\n",
    "# along with this program.  If not, see <https://www.gnu.org/licenses/>.\n",
    "########################################################################"
   ]
  },
  {
   "cell_type": "markdown",
   "metadata": {},
   "source": [
    "# Tutoriel pour le module CelestialBody\n",
    "\n",
    "Ce tutoriel s'adresse à tous ceux qui souhaitent apprendre à exploiter le module CelestialBody."
   ]
  },
  {
   "cell_type": "markdown",
   "metadata": {},
   "source": [
    "## On commence par importer tous les modules utiles"
   ]
  },
  {
   "cell_type": "code",
   "execution_count": 2,
   "metadata": {},
   "outputs": [],
   "source": [
    "%matplotlib inline               \n",
    "                                 # pour afficher les graphiques dans le notebook\n",
    "                                 # la commande %matplolib qt permet d'afficher\n",
    "                                 # les graphiques dans une nouvelle fenêtre\n",
    "\n",
    "import numpy as np               # les tableaux, les fonctions mathématiques, etc.\n",
    "import matplotlib.pyplot as plt  # les graphes\n",
    "from matplotlib import animation # les animations\n",
    "from datetime import datetime, timedelta    # gestion des dates\n",
    "\n",
    "from celestialbody import CelestialBody # position des principaux objets du système solaire\n",
    "import celestialbody"
   ]
  },
  {
   "cell_type": "markdown",
   "metadata": {},
   "source": [
    "## Comment connaitre la position d'une planète à un instant donné ?"
   ]
  },
  {
   "cell_type": "code",
   "execution_count": 3,
   "metadata": {},
   "outputs": [
    {
     "data": {
      "text/plain": [
       "(-0.0057727483433337445, 1.5698184461545464, 0.03297198596449348)"
      ]
     },
     "execution_count": 3,
     "metadata": {},
     "output_type": "execute_result"
    }
   ],
   "source": [
    "# création de l'objet Python correspondant à la planète, l'astéroide ou la comète choisi\n",
    "body = CelestialBody(\"Mars\")\n",
    "\n",
    "# vous avez le choix dans la date\n",
    "date = datetime(2021,2,18) # Perseverance se pose sur Mars\n",
    "body.date = date\n",
    "\n",
    "# coordonnées de la position de l'objet dans le référentiel ecliptique héliocentrique\n",
    "body.position"
   ]
  },
  {
   "cell_type": "markdown",
   "metadata": {},
   "source": [
    "## Passons aux éphémérides"
   ]
  },
  {
   "cell_type": "code",
   "execution_count": 4,
   "metadata": {},
   "outputs": [
    {
     "name": "stdout",
     "output_type": "stream",
     "text": [
      "[[-4.46464505e-01 -5.69854726e-01  1.79559576e-02]\n",
      " [-3.10197251e-01 -6.55439651e-01  8.90869859e-03]\n",
      " [-1.58585213e-01 -7.08614279e-01 -5.79436138e-04]\n",
      " [ 8.43322326e-04 -7.26884182e-01 -1.00393155e-02]\n",
      " [ 1.60234386e-01 -7.09467063e-01 -1.90065289e-02]\n",
      " [ 3.11781673e-01 -6.57307216e-01 -2.70431503e-02]\n",
      " [ 4.48088961e-01 -5.73014093e-01 -3.37578278e-02]\n",
      " [ 5.62508651e-01 -4.60730589e-01 -3.88235283e-02]\n",
      " [ 6.49445188e-01 -3.25937798e-01 -4.19923803e-02]\n",
      " [ 7.04613440e-01 -1.75203838e-01 -4.31071455e-02]\n",
      " [ 7.25242972e-01 -1.58851633e-02 -4.21089133e-02]\n",
      " [ 7.10219873e-01  1.44210087e-01 -3.90406652e-02]\n",
      " [ 6.60158472e-01  2.97185563e-01 -3.40464216e-02]\n",
      " [ 5.77396494e-01  4.35433845e-01 -2.73657781e-02]\n",
      " [ 4.65909107e-01  5.52011800e-01 -1.93237809e-02]\n",
      " [ 3.31140288e-01  6.40996435e-01 -1.03162955e-02]\n",
      " [ 1.79754083e-01  6.97801902e-01 -7.91280851e-04]\n",
      " [ 1.93134755e-02  7.19437790e-01  8.77330959e-03]\n",
      " [-1.42099602e-01  7.04689979e-01  1.78939630e-02]\n",
      " [-2.96303854e-01  6.54208632e-01  2.61070527e-02]\n",
      " [-4.35453682e-01  5.70493187e-01  3.29937617e-02]\n",
      " [-5.52462531e-01  4.57771368e-01  3.82028733e-02]\n",
      " [-6.41386768e-01  3.21777378e-01  4.14698949e-02]\n",
      " [-6.97744566e-01  1.69442555e-01  4.26312262e-02]\n",
      " [-7.18749219e-01  8.51882153e-03  4.16324594e-02]\n",
      " [-7.03443283e-01 -1.52839848e-01  3.85303743e-02]\n",
      " [-6.52727975e-01 -3.06510472e-01  3.34886840e-02]\n",
      " [-5.69290315e-01 -4.44821685e-01  2.67680446e-02]\n",
      " [-4.57437432e-01 -5.60938020e-01  1.87112021e-02]]\n"
     ]
    }
   ],
   "source": [
    "body = CelestialBody(\"Venus\")\n",
    "\n",
    "debut = datetime(2021,1,1)                # la date de début\n",
    "fin   = datetime(2021,8,13)               # la date de fin\n",
    "X = body.data(\"X\", start=debut, stop=fin) # coordonnée cartésienne X\n",
    "Y = body.data(\"Y\", start=debut, stop=fin) # coordonnée cartésienne Y\n",
    "Z = body.data(\"Z\", start=debut, stop=fin) # coordonnée cartésienne Z\n",
    "positions = body.data(\"position\", start=debut, stop=fin) # coordonnées cartésiennes X Y Z\n",
    "\n",
    "print(positions)"
   ]
  },
  {
   "cell_type": "code",
   "execution_count": 5,
   "metadata": {},
   "outputs": [
    {
     "data": {
      "text/plain": [
       "[<matplotlib.lines.Line2D at 0x7fb8d01d2c10>]"
      ]
     },
     "execution_count": 5,
     "metadata": {},
     "output_type": "execute_result"
    },
    {
     "data": {
      "image/png": "[encoded data removed]",
      "text/plain": [
       "<Figure size 432x288 with 1 Axes>"
      ]
     },
     "metadata": {
      "needs_background": "light"
     },
     "output_type": "display_data"
    }
   ],
   "source": [
    "plt.plot(X,Y, \"o\")"
   ]
  },
  {
   "cell_type": "markdown",
   "metadata": {},
   "source": [
    "Remarque : la trajectoire parait elliptique car l'échelle des abscisses et celle des ordonnées n'est pas la même.\n",
    "La commande set_aspect(\"equal\") permet de régler le problème."
   ]
  },
  {
   "cell_type": "code",
   "execution_count": 6,
   "metadata": {},
   "outputs": [
    {
     "data": {
      "image/png": "[encoded data removed]",
      "text/plain": [
       "<Figure size 432x288 with 1 Axes>"
      ]
     },
     "metadata": {
      "needs_background": "light"
     },
     "output_type": "display_data"
    }
   ],
   "source": [
    "fig, ax = plt.subplots(1, 1)\n",
    "ax.plot(X,Y, \"o\")\n",
    "ax.set_aspect(\"equal\")"
   ]
  },
  {
   "cell_type": "code",
   "execution_count": 7,
   "metadata": {},
   "outputs": [],
   "source": [
    "# REMARQUE : au lieu de refaire le même calcul plusieurs fois, on peut aussi directement écrire \n",
    "positions = body.data(\"position\", start=debut, stop=fin) # on fait le calcul une fois\n",
    "X = positions[:,0] # puis on \"extrait\" les données\n",
    "Y = positions[:,1]\n",
    "Z = positions[:,2]\n",
    "# les listes X, Y, et Z contiennent les mêmes données que précédemment"
   ]
  },
  {
   "cell_type": "markdown",
   "metadata": {},
   "source": [
    "### Bien. Et maintenant, puis-je changer la période d'échantillonnage ? Bien sûr !\n",
    "\n",
    "Par défaut, il y a 25 points par période de révolution pour avoir un tracé lisible en cas de représentation graphique."
   ]
  },
  {
   "cell_type": "code",
   "execution_count": 8,
   "metadata": {},
   "outputs": [
    {
     "name": "stdout",
     "output_type": "stream",
     "text": [
      "[-0.4464645  -0.15858521  0.16023439  0.44808896  0.64944519  0.72524297\n",
      "  0.66015847  0.46590911  0.17975408 -0.1420996  -0.43545368 -0.64138677\n",
      " -0.71874922 -0.65272797 -0.45743743]\n"
     ]
    }
   ],
   "source": [
    "pas = 16 # en jours\n",
    "X = body.data(\"X\", start=debut, stop=fin, step=pas)\n",
    "Y = body.data(\"Y\", start=debut, stop=fin, step=pas)\n",
    "Z = body.data(\"Z\", start=debut, stop=fin, step=pas)\n",
    "\n",
    "# X,Y et Z contiennent les coordonnées cartésiennes de Vénus\n",
    "# par exemple\n",
    "print(X)"
   ]
  },
  {
   "cell_type": "code",
   "execution_count": 9,
   "metadata": {},
   "outputs": [
    {
     "data": {
      "image/png": "[encoded data removed]",
      "text/plain": [
       "<Figure size 432x288 with 1 Axes>"
      ]
     },
     "metadata": {
      "needs_background": "light"
     },
     "output_type": "display_data"
    }
   ],
   "source": [
    "fig, ax = plt.subplots(1, 1)\n",
    "ax.plot(X,Y, \"o\")\n",
    "ax.set_aspect(\"equal\")"
   ]
  },
  {
   "cell_type": "markdown",
   "metadata": {},
   "source": [
    "## Super ! Et si je souhaite créer un fichier de données ?"
   ]
  },
  {
   "cell_type": "code",
   "execution_count": 10,
   "metadata": {},
   "outputs": [
    {
     "data": {
      "text/plain": [
       "'jupiter.txt'"
      ]
     },
     "execution_count": 10,
     "metadata": {},
     "output_type": "execute_result"
    }
   ],
   "source": [
    "body = CelestialBody(\"Jupiter\")\n",
    "\n",
    "# Création d'un fichier jupiter.txt contenant les coordonnées cartésiennes x,y\n",
    "body.data_position_txt()"
   ]
  },
  {
   "cell_type": "code",
   "execution_count": 11,
   "metadata": {},
   "outputs": [
    {
     "name": "stdout",
     "output_type": "stream",
     "text": [
      "# filename jupiter.txt\n",
      "####################################\n",
      "# days between two positions: 173 \n",
      "# first line date:  8/ 8/2021\n",
      "####################################\n",
      "X (au)              Y (au)              Z (au)              \n",
      "4.1441              -2.8485             -0.0808             \n",
      "4.7156              -1.6218             -0.0985             \n",
      "4.9514              -0.2789             -0.1092             \n",
      "4.8282              1.0848              -0.112              \n",
      "4.3522              2.37                -0.1066             \n",
      "3.5589              3.4834              -0.0935             \n",
      "2.5094              4.347               -0.0736             \n",
      "1.2831              4.9056              -0.0485             \n",
      "-0.0313             5.1299              -0.0201             \n",
      "-1.3439             5.0163              0.0096              \n",
      "-2.5714             4.5841              0.0387              \n",
      "-3.6414             3.8713              0.0654              \n",
      "-4.4957             2.9295              0.0883              \n",
      "-5.0915             1.8199              0.1061              \n",
      "-5.4017             0.6088              0.1179              \n",
      "-5.4143             -0.6349             0.1232              \n",
      "-5.1317             -1.8432             0.1218              \n",
      "-4.5702             -2.9501             0.1138              \n",
      "-3.7594             -3.8948             0.0996              \n",
      "-2.741              -4.6228             0.0799              \n",
      "-1.5686             -5.0887             0.0556              \n",
      "-0.3061             -5.2589             0.0282              \n",
      "0.9736              -5.114              -0.0009             \n",
      "2.192               -4.6523             -0.0299             \n",
      "3.2689              -3.8921             -0.057              \n",
      "4.128               -2.8736             -0.0803             \n",
      "\n"
     ]
    }
   ],
   "source": [
    "with open(\"jupiter.txt\", \"r\") as f:\n",
    "    content = f.read()\n",
    "    print(content)"
   ]
  },
  {
   "cell_type": "markdown",
   "metadata": {},
   "source": [
    "### Evidemment, il est encore possible de changer la période d'échantillonage, la date de début et de fin du fichier."
   ]
  },
  {
   "cell_type": "code",
   "execution_count": 12,
   "metadata": {},
   "outputs": [
    {
     "data": {
      "text/plain": [
       "'mercury.txt'"
      ]
     },
     "execution_count": 12,
     "metadata": {},
     "output_type": "execute_result"
    }
   ],
   "source": [
    "body = CelestialBody(\"Mercury\")\n",
    "\n",
    "debut = datetime(2021,1,1)\n",
    "fin   = datetime(2021,3,29)\n",
    "pas   = 1\n",
    "\n",
    "body.data_position_txt(start=debut, stop=fin, step=pas)"
   ]
  },
  {
   "cell_type": "markdown",
   "metadata": {},
   "source": [
    "### Un début de programme utilisable par les élèves exploitant ce fichier serait alors :"
   ]
  },
  {
   "cell_type": "code",
   "execution_count": 13,
   "metadata": {},
   "outputs": [
    {
     "data": {
      "image/png": "[encoded data removed]",
      "text/plain": [
       "<Figure size 432x288 with 1 Axes>"
      ]
     },
     "metadata": {
      "needs_background": "light"
     },
     "output_type": "display_data"
    }
   ],
   "source": [
    "data = np.loadtxt(\"mercury.txt\", skiprows=6)\n",
    "\n",
    "fig, ax = plt.subplots(1, 1)\n",
    "x, y = data[:,0], data[:,1]\n",
    "plt.plot(x,y, \"o\")\n",
    "plt.plot([0],[0], \"o\", color=\"gold\")\n",
    "\n",
    "ax.set_aspect(\"equal\")"
   ]
  },
  {
   "cell_type": "markdown",
   "metadata": {},
   "source": [
    "### D'accord, mais l'entête par défaut du fichier est un peu tristoune...\n",
    "Pas de problème, on peut automatiser la création d'un entête personnalisé, mais aussi choisir les colonnes à écrire dans le fichier, la précision des données et le nom du fichier."
   ]
  },
  {
   "cell_type": "code",
   "execution_count": 14,
   "metadata": {},
   "outputs": [
    {
     "data": {
      "text/plain": [
       "'halley.txt'"
      ]
     },
     "execution_count": 14,
     "metadata": {},
     "output_type": "execute_result"
    }
   ],
   "source": [
    "body = CelestialBody(\"1P/Halley\")\n",
    "\n",
    "debut = datetime(1986,1,1)\n",
    "fin   = datetime(2061,12,31)\n",
    "pas   = 100\n",
    "\n",
    "date_suivante = debut + timedelta(days=pas)\n",
    "\n",
    "# Soyons créatifs pour l'entête...\n",
    "entete = [u\"# fichier \"+body.name.lower()+\".txt\\n\",\n",
    "          u\"############################################################################################\\n\",\n",
    "          u\"# Positions prévues de la comète \"+body.name+\" par rapport au Soleil.\\n\",\n",
    "          u\"# Les données sont prises tous les %d jours.\\n\"%(pas),\n",
    "          u\"# La première ligne correspond au %2d/%2d/%4d, la deuxième au %2d/%2d/%4d, etc.\\n\"%(debut.day, debut.month, debut.year, date_suivante.day, date_suivante.month, date_suivante.year),\n",
    "          u\"# Les distances sont exprimées en unité astronomique (au) : 1 au = %9.3e m\\n\"%(149597870700.0),\n",
    "          u\"############################################################################################\\n\"\n",
    "         ]\n",
    "\n",
    "body.data_position_txt(start=debut, stop=fin, step=pas, header=entete, cols=\"nxy\")\n",
    "\n",
    "# En choisissant \"nxy\" pour le paramètre cols, le fichier contiendra 3 colonnes :\n",
    "# - le nombre de jours écoulés depuis le premier jour\n",
    "# - la coordonnée x de la position\n",
    "# - la coordonnée y de la position\n",
    "# Le choix des colonnes se fait en formant une chaine de caractères avec \"n\", \"x\", \"y\" et \"z\"\n",
    "# Le choix du nom du fichier se fait avec le paramètre filename de la commande data_position_txt."
   ]
  },
  {
   "cell_type": "code",
   "execution_count": null,
   "metadata": {},
   "outputs": [],
   "source": []
  }
 ],
 "metadata": {
  "kernelspec": {
   "display_name": "Python 3",
   "language": "python",
   "name": "python3"
  },
  "language_info": {
   "codemirror_mode": {
    "name": "ipython",
    "version": 3
   },
   "file_extension": ".py",
   "mimetype": "text/x-python",
   "name": "python",
   "nbconvert_exporter": "python",
   "pygments_lexer": "ipython3",
   "version": "3.8.3"
  }
 },
 "nbformat": 4,
 "nbformat_minor": 4
}
